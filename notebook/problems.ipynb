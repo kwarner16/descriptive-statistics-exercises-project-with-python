{
    "cells": [
        {
            "cell_type": "markdown",
            "id": "ac622319",
            "metadata": {},
            "source": [
                "# Descriptive statistics problems"
            ]
        },
        {
            "cell_type": "markdown",
            "id": "5e0ab0d5",
            "metadata": {},
            "source": [
                "### Exercise 1\n",
                "\n",
                "We will use NumPy to obtain information to describe statistically.\n",
                "\n",
                "- Generate an array of 100 elements following a normal distribution.\n",
                "- Generate an array of 100 elements following a chi-square distribution with 3 degrees of freedom.\n",
                "- Calculate the main metrics and statistical measures that best describe the two vectors."
            ]
        },
        {
            "cell_type": "code",
            "execution_count": 20,
            "id": "34720ab6",
            "metadata": {},
            "outputs": [
                {
                    "name": "stdout",
                    "output_type": "stream",
                    "text": [
                        "Normal Distribution vector:\n",
                        "[ 7.84157448e-01 -1.40731491e+00  2.76984590e-01  1.07419886e+00\n",
                        "  2.12909943e+00 -1.70455181e-01  2.71258326e-01  1.09526902e+00\n",
                        "  7.84069216e-01 -2.76487596e-02 -1.10333227e+00  1.19496724e+00\n",
                        "  1.45637312e+00  1.32332428e+00 -1.42151987e+00  1.08563790e-01\n",
                        " -1.38562695e+00 -5.08091016e-01  7.03298636e-01  6.33877190e-01\n",
                        "  9.06556478e-01 -5.32109507e-01 -5.64309018e-01  1.36772501e+00\n",
                        "  1.11393044e+00 -1.69820900e-01  5.21487150e-01 -4.70162146e-01\n",
                        "  2.61838583e-02  8.16237666e-02 -7.24692813e-01  4.19086922e-01\n",
                        " -5.05572369e-01 -5.50321598e-01 -2.41004522e-02  5.04758077e-01\n",
                        "  1.02392820e-01  3.29047443e-01 -1.69939008e-01  2.05621209e+00\n",
                        "  4.06680796e-01  1.20899135e+00  5.90076046e-02 -3.79160621e-01\n",
                        " -1.12023561e+00 -2.58527274e-03 -4.40851915e-01 -6.33765438e-01\n",
                        "  1.74855025e+00 -8.68025320e-01  2.77828328e+00  1.38453860e+00\n",
                        "  9.82547087e-03  1.52079271e-01 -1.51426282e+00 -1.10935681e+00\n",
                        " -7.66571186e-01 -3.49169026e-01  1.30265287e+00 -1.12960089e+00\n",
                        " -7.88830612e-01 -2.58981356e-03  1.07552418e+00 -1.23688275e+00\n",
                        " -3.07724298e-01 -1.40064477e+00 -3.32872968e-01  1.82268256e-01\n",
                        "  4.22994834e-01 -5.68174066e-01  1.41807705e-01  1.27669745e+00\n",
                        "  6.88704887e-01  8.14166198e-01  2.29789376e-01  3.64837017e-01\n",
                        " -1.42922384e+00 -1.72238136e+00  2.19187575e-01  5.34698692e-01\n",
                        "  5.73341090e-01 -2.68330936e-01  2.97815239e+00 -1.41447685e+00\n",
                        "  1.22317042e+00 -1.36679539e+00 -1.03370551e+00 -1.36701538e+00\n",
                        "  3.23073163e-01 -1.17204005e-01 -2.11114755e-01  4.88770335e-01\n",
                        "  6.96508435e-02  1.27286669e+00  1.13431089e+00  5.49954681e-01\n",
                        " -8.19715528e-01 -9.96570494e-02  1.95919899e+00  4.34174649e-01]\n",
                        "\n",
                        "Chi-Square vector:\n",
                        "[ 3.62436074  1.10080223  5.27645252  5.07764212  0.84930215  2.89715038\n",
                        "  4.6988337   2.4214124   3.25298999  1.86109926  1.49320183  3.01192414\n",
                        "  0.69568005  2.74498667  4.79407766  2.31706705  0.28362268  3.40950273\n",
                        "  3.8381138   0.9192811   3.99886242  0.96532553  6.59892956  0.37146224\n",
                        "  3.24991523  3.34501369  0.96234322  1.26323088  2.75293075  0.66130429\n",
                        "  1.88931304  3.95898303  1.26089691  6.87995184  2.07400095  2.80675031\n",
                        "  0.71068284  1.22369332  4.04829852  2.86758386  1.68474427  2.82616343\n",
                        "  0.90741457  2.54704506  3.66445066  1.66002327  2.55726108  1.5329403\n",
                        "  8.81068468  0.22824996  4.15123796  3.63926057  4.28738938  5.94529318\n",
                        " 10.0434214   4.33545406  6.95404093  0.23664864  3.99392833  0.65568652\n",
                        "  1.48533109  1.96182258  2.62287074  0.89972849  3.40138385  2.09212264\n",
                        "  2.87629779  1.64131738  0.4024792   0.10131427  0.45305669  4.86878556\n",
                        "  2.21679315  3.87354109  2.46745398  0.46406019  4.41586354  4.21276114\n",
                        "  0.15804435  0.43570092  1.34403003  3.84361717  1.8809204   4.37855289\n",
                        "  0.25044795  5.76750162  2.72584728  1.878142    2.73443793  2.73319566\n",
                        "  5.78792139  2.16709485  5.97300334  2.74825725  4.0512312   0.87264471\n",
                        "  1.00002562  1.70928449  1.30332195  2.65819423]\n",
                        "\n",
                        "Mean of norm: 0.12736453448615953\n",
                        "Mean of Chi-Square: 2.7397671445003158\n",
                        "\n",
                        "Median of norm: 0.09200829352462571\n",
                        "Median of Chi-Square: 2.5900659083674014\n",
                        "\n",
                        "Mode of norm: 0.7841574483590684\n",
                        "Mode of Chi-Square: 3.6243607397344713\n",
                        "\n"
                    ]
                }
            ],
            "source": [
                "# TODO import libraries\n",
                "import numpy as np\n",
                "import statistics as stats\n",
                "\n",
                "# TODO Generate array with 100 elements with normal distribution\n",
                "norm_array = np.random.standard_normal(100)\n",
                "print(f\"Normal Distribution vector:\\n{norm_array}\\n\")\n",
                "\n",
                "# TODO Generate array with 100 elements and follows chi-square distribution (3 dofs)\n",
                "chi_square_array = np.random.chisquare(3, 100)\n",
                "print(f\"Chi-Square vector:\\n{chi_square_array}\\n\")\n",
                "\n",
                "# TODO Calculate main metrics of stats\n",
                "print(f\"Mean of norm: {stats.mean(norm_array)}\")\n",
                "print(f\"Mean of Chi-Square: {stats.mean(chi_square_array)}\\n\")\n",
                "\n",
                "print(f\"Median of norm: {stats.median(norm_array)}\")\n",
                "print(f\"Median of Chi-Square: {stats.median(chi_square_array)}\\n\")\n",
                "\n",
                "print(f\"Mode of norm: {stats.mode(norm_array)}\")\n",
                "print(f\"Mode of Chi-Square: {stats.mode(chi_square_array)}\\n\")"
            ]
        },
        {
            "cell_type": "markdown",
            "id": "46c70c3d",
            "metadata": {},
            "source": [
                "### Exercise 2\n",
                "\n",
                "Write a Python program to calculate the standard deviation of the following data:\n",
                "\n",
                "```py\n",
                "data = [4, 2, 5, 8, 6]\n",
                "```"
            ]
        },
        {
            "cell_type": "code",
            "execution_count": 19,
            "id": "d590308e",
            "metadata": {},
            "outputs": [
                {
                    "name": "stdout",
                    "output_type": "stream",
                    "text": [
                        "Standard Deviation of Data: 2.0\n"
                    ]
                }
            ],
            "source": [
                "# TODO initialize data\n",
                "data = [4, 2, 5, 8, 6]\n",
                "\n",
                "# TODO Find standard deviation of Data\n",
                "std_of_data = np.std(data)\n",
                "\n",
                "# TODO Print results\n",
                "print(f\"Standard Deviation of Data: {std_of_data}\")"
            ]
        }
    ],
    "metadata": {
        "kernelspec": {
            "display_name": "Python 3",
            "language": "python",
            "name": "python3"
        },
        "language_info": {
            "codemirror_mode": {
                "name": "ipython",
                "version": 3
            },
            "file_extension": ".py",
            "mimetype": "text/x-python",
            "name": "python",
            "nbconvert_exporter": "python",
            "pygments_lexer": "ipython3",
            "version": "3.11.4"
        }
    },
    "nbformat": 4,
    "nbformat_minor": 5
}
